{
 "cells": [
  {
   "cell_type": "markdown",
   "metadata": {},
   "source": [
    "# Total coading = 47"
   ]
  },
  {
   "cell_type": "markdown",
   "metadata": {},
   "source": [
    "# 415. Add Strings"
   ]
  },
  {
   "cell_type": "markdown",
   "metadata": {},
   "source": [
    "Given two non-negative integers num1 and num2 represented as string, return the sum of num1 and num2.\n",
    "\n",
    "Note:\n",
    "\n",
    "The length of both num1 and num2 is < 5100.\n",
    "Both num1 and num2 contains only digits 0-9.\n",
    "Both num1 and num2 does not contain any leading zero.\n",
    "You must not use any built-in BigInteger library or convert the inputs to integer directly."
   ]
  },
  {
   "cell_type": "code",
   "execution_count": 77,
   "metadata": {},
   "outputs": [],
   "source": [
    "num1 = str(\"123\")\n",
    "num2 = str(\"98\")"
   ]
  },
  {
   "cell_type": "code",
   "execution_count": 78,
   "metadata": {},
   "outputs": [
    {
     "name": "stdout",
     "output_type": "stream",
     "text": [
      "221\n"
     ]
    }
   ],
   "source": [
    "i = len(num1) -1 # find the length of the sting and the index \n",
    "j = len(num2)-1 # find the length of the sting and the index \n",
    "\n",
    "carry_forward=0 \n",
    "result=\"\"\n",
    "\n",
    "while i>=0 or j>=0 or carry_forward>0:\n",
    "    if i >=0:\n",
    "        carry_forward = carry_forward + int(num1[i])\n",
    "        i = i - 1\n",
    "    if j>=0:\n",
    "        carry_forward = carry_forward + int(num2[j])\n",
    "        j = j-1\n",
    "    \n",
    "    mode_value = carry_forward%10 # find the mode value : 12/10 -> 2 ; 15/10 -> 5\n",
    "    \n",
    "    result = result + str(mode_value)  \n",
    "\n",
    "    carry_forward = carry_forward //10 ## floor value \n",
    "\n",
    "print(result[::-1]) # revesre printing \n",
    "    \n",
    "    "
   ]
  },
  {
   "cell_type": "code",
   "execution_count": null,
   "metadata": {},
   "outputs": [],
   "source": []
  },
  {
   "cell_type": "markdown",
   "metadata": {},
   "source": [
    "# 67. Add Binary"
   ]
  },
  {
   "cell_type": "markdown",
   "metadata": {},
   "source": [
    "Given two binary strings a and b, return their sum as a binary string.\n",
    "\n",
    " \n",
    "\n",
    "Example 1:\n",
    "\n",
    "Input: a = \"11\", b = \"1\"\n",
    "Output: \"100\"\n",
    "\n",
    "Example 2:\n",
    "\n",
    "Input: a = \"1010\", b = \"1011\"\n",
    "Output: \"10101\"\n",
    " \n",
    "\n",
    "Constraints:\n",
    "\n",
    "1 <= a.length, b.length <= 104\n",
    "\n",
    "a and b consist only of '0' or '1' characters.\n",
    "\n",
    "Each string does not contain leading zeros except for the zero itself."
   ]
  },
  {
   "cell_type": "code",
   "execution_count": 103,
   "metadata": {},
   "outputs": [],
   "source": [
    "a=str(\"1010\")\n",
    "b=str(\"1011\")"
   ]
  },
  {
   "cell_type": "code",
   "execution_count": 104,
   "metadata": {},
   "outputs": [],
   "source": [
    "index_a = len(a)-1\n",
    "index_b = len(b)-1"
   ]
  },
  {
   "cell_type": "code",
   "execution_count": 105,
   "metadata": {},
   "outputs": [],
   "source": [
    "result =\"\"\n",
    "carry_forward=0"
   ]
  },
  {
   "cell_type": "code",
   "execution_count": 106,
   "metadata": {},
   "outputs": [
    {
     "name": "stdout",
     "output_type": "stream",
     "text": [
      "10101\n"
     ]
    }
   ],
   "source": [
    "while index_a>=0 or index_b>=0 or carry_forward>0:\n",
    "    if index_a>=0:\n",
    "        carry_forward= carry_forward + int(a[index_a])\n",
    "        index_a = index_a -1\n",
    "    if index_b>=0:\n",
    "        carry_forward = carry_forward + int(b[index_b])\n",
    "        index_b = index_b-1\n",
    "    \n",
    "    result = result +  str(carry_forward%2)\n",
    "    carry_forward = carry_forward//2\n",
    "\n",
    "print(result[::-1])\n",
    "    \n",
    "    "
   ]
  },
  {
   "cell_type": "markdown",
   "metadata": {},
   "source": [
    "# 125. Valid Palindrome"
   ]
  },
  {
   "cell_type": "markdown",
   "metadata": {},
   "source": [
    "Given a string s, determine if it is a palindrome, considering only alphanumeric characters and ignoring cases.\n",
    "\n",
    " \n",
    "\n",
    "Example 1:\n",
    "\n",
    "Input: s = \"A man, a plan, a canal: Panama\"\n",
    "Output: true\n",
    "Explanation: \"amanaplanacanalpanama\" is a palindrome.\n",
    "\n",
    "Example 2:\n",
    "\n",
    "Input: s = \"race a car\"\n",
    "Output: false\n",
    "Explanation: \"raceacar\" is not a palindrome.\n",
    " \n",
    "\n",
    "Constraints:\n",
    "\n",
    "1 <= s.length <= 2 * 105\n",
    "\n",
    "s consists only of printable ASCII characters."
   ]
  },
  {
   "cell_type": "code",
   "execution_count": 117,
   "metadata": {},
   "outputs": [],
   "source": [
    "a = \"malayalam\""
   ]
  },
  {
   "cell_type": "code",
   "execution_count": 118,
   "metadata": {},
   "outputs": [],
   "source": [
    "b = a[::-1]"
   ]
  },
  {
   "cell_type": "code",
   "execution_count": 119,
   "metadata": {},
   "outputs": [
    {
     "name": "stdout",
     "output_type": "stream",
     "text": [
      "F\n"
     ]
    }
   ],
   "source": [
    "if a==b:\n",
    "    print(\"T\")\n",
    "else:\n",
    "    print(\"F\")"
   ]
  },
  {
   "cell_type": "markdown",
   "metadata": {},
   "source": [
    "# 88. Merge Sorted Array\n"
   ]
  },
  {
   "cell_type": "markdown",
   "metadata": {},
   "source": [
    "Given two sorted integer arrays nums1 and nums2, merge nums2 into nums1 as one sorted array.\n",
    "\n",
    "The number of elements initialized in nums1 and nums2 are m and n respectively. You may assume that nums1 has a size equal to m + n such that it has enough space to hold additional elements from nums2.\n",
    "\n",
    " \n",
    "\n",
    "Example 1:\n",
    "\n",
    "Input: nums1 = [1,2,3,0,0,0], m = 3, nums2 = [2,5,6], n = 3\n",
    "Output: [1,2,2,3,5,6]\n",
    "\n",
    "Example 2:\n",
    "\n",
    "Input: nums1 = [1], m = 1, nums2 = [], n = 0\n",
    "Output: [1]\n",
    " \n",
    "\n",
    "Constraints:\n",
    "\n",
    "nums1.length == m + n\n",
    "nums2.length == n\n",
    "0 <= m, n <= 200\n",
    "1 <= m + n <= 200\n",
    "-109 <= nums1[i], nums2[i] <= 109\n",
    "Accepted"
   ]
  },
  {
   "cell_type": "code",
   "execution_count": 157,
   "metadata": {},
   "outputs": [],
   "source": [
    "list1=[1,2,3]\n",
    "list2=[2,5,4,6,7]"
   ]
  },
  {
   "cell_type": "code",
   "execution_count": 158,
   "metadata": {},
   "outputs": [],
   "source": [
    "temp1 = len(list2)-1\n",
    "temp2 = len(list2)"
   ]
  },
  {
   "cell_type": "code",
   "execution_count": 159,
   "metadata": {},
   "outputs": [
    {
     "name": "stdout",
     "output_type": "stream",
     "text": [
      "[1, 2, 2, 3, 4, 5, 6, 7]\n"
     ]
    }
   ],
   "source": [
    "for i in range(len(list2)):\n",
    "    #print(list2[i])\n",
    "    list1.insert(temp2,list2[i])\n",
    "    temp2 = temp2 +1\n",
    "list1.sort()\n",
    "print(list1)\n",
    "    "
   ]
  },
  {
   "cell_type": "markdown",
   "metadata": {},
   "source": [
    "# 680. Valid Palindrome II"
   ]
  },
  {
   "cell_type": "markdown",
   "metadata": {},
   "source": [
    "https://www.youtube.com/watch?v=wLNkJlCGVXQ&ab_channel=RenZhang"
   ]
  },
  {
   "cell_type": "markdown",
   "metadata": {},
   "source": [
    "Given a non-empty string s, you may delete at most one character. Judge whether you can make it a palindrome.\n",
    "\n",
    "Example 1:\n",
    "Input: \"aba\"\n",
    "Output: True\n",
    "\n",
    "Example 2:\n",
    "Input: \"abca\"\n",
    "Output: True\n",
    "Explanation: You could delete the character 'c'.\n",
    "\n",
    "Note:\n",
    "The string will only contain lowercase characters a-z. The maximum length of the string is 50000."
   ]
  },
  {
   "cell_type": "code",
   "execution_count": null,
   "metadata": {},
   "outputs": [],
   "source": []
  },
  {
   "cell_type": "code",
   "execution_count": null,
   "metadata": {},
   "outputs": [],
   "source": []
  },
  {
   "cell_type": "code",
   "execution_count": null,
   "metadata": {},
   "outputs": [],
   "source": []
  },
  {
   "cell_type": "markdown",
   "metadata": {},
   "source": [
    "# 1047. Remove All Adjacent Duplicates In String"
   ]
  },
  {
   "cell_type": "markdown",
   "metadata": {},
   "source": [
    "Given a string S of lowercase letters, a duplicate removal consists of choosing two adjacent and equal letters, and removing them.\n",
    "\n",
    "We repeatedly make duplicate removals on S until we no longer can.\n",
    "\n",
    "Return the final string after all such duplicate removals have been made.  It is guaranteed the answer is unique.\n",
    "\n",
    " \n",
    "\n",
    "Example 1:\n",
    "\n",
    "Input: \"abbaca\"\n",
    "Output: \"ca\"\n",
    "Explanation: \n",
    "For example, in \"abbaca\" we could remove \"bb\" since the letters are adjacent and equal, and this is the only possible move.  The result of this move is that the string is \"aaca\", of which only \"aa\" is possible, so the final string is \"ca\".\n",
    " \n",
    "\n",
    "Note:\n",
    "\n",
    "1 <= S.length <= 20000\n",
    "S consists only of English lowercase letters.\n"
   ]
  },
  {
   "cell_type": "code",
   "execution_count": 304,
   "metadata": {},
   "outputs": [
    {
     "name": "stdout",
     "output_type": "stream",
     "text": [
      "['c', 'a']\n"
     ]
    }
   ],
   "source": [
    "s=\"abbaca\" \n",
    "\n",
    "list1 =[]\n",
    "\n",
    "for values in s:\n",
    "    list1_length = len(list1) # starting 0\n",
    "    if list1_length>0 and values==list1[list1_length-1]:\n",
    "        list1.pop() # last value in the list\n",
    "    else:\n",
    "        list1.append(values)\n",
    "        \n",
    "print(list1)\n",
    "#print(\"\".join(list1))   \n",
    "    \n"
   ]
  },
  {
   "cell_type": "markdown",
   "metadata": {},
   "source": [
    "# 283. Move Zeroes"
   ]
  },
  {
   "cell_type": "markdown",
   "metadata": {},
   "source": [
    "Given an integer array nums, move all 0's to the end of it while maintaining the relative order of the non-zero elements.\n",
    "\n",
    "Note that you must do this in-place without making a copy of the array.\n",
    "\n",
    " \n",
    "\n",
    "Example 1:\n",
    "\n",
    "Input: nums = [0,1,0,3,12]\n",
    "Output: [1,3,12,0,0]\n",
    "\n",
    "Example 2:\n",
    "\n",
    "Input: nums = [0]\n",
    "Output: [0]\n",
    " \n",
    "\n",
    "Constraints:\n",
    "\n",
    "1 <= nums.length <= 104\n",
    "-231 <= nums[i] <= 231 - 1"
   ]
  },
  {
   "cell_type": "code",
   "execution_count": 315,
   "metadata": {},
   "outputs": [
    {
     "name": "stdout",
     "output_type": "stream",
     "text": [
      "[1, 3, 12, 5, 4, 0, 0, 0, 0]\n"
     ]
    }
   ],
   "source": [
    "nums = [0,1,0,3,12,5,0,4,0]\n",
    "\n",
    "for i in range(len(nums)):\n",
    "    #print(nums[i])\n",
    "    if nums[i]==0:\n",
    "        nums.pop(i)\n",
    "        nums.append(0)\n",
    "        #print(nums)\n",
    "print(nums)\n",
    "\n"
   ]
  },
  {
   "cell_type": "markdown",
   "metadata": {},
   "source": [
    "# 349. Intersection of Two Arrays"
   ]
  },
  {
   "cell_type": "markdown",
   "metadata": {},
   "source": [
    "Given two arrays, write a function to compute their intersection.\n",
    "\n",
    "Example 1:\n",
    "\n",
    "Input: nums1 = [1,2,2,1], nums2 = [2,2]\n",
    "Output: [2]\n",
    "\n",
    "Example 2:\n",
    "\n",
    "Input: nums1 = [4,9,5], nums2 = [9,4,9,8,4]\n",
    "Output: [9,4]\n",
    "Note:\n",
    "\n",
    "Each element in the result must be unique.\n",
    "The result can be in any order."
   ]
  },
  {
   "cell_type": "code",
   "execution_count": 326,
   "metadata": {},
   "outputs": [
    {
     "name": "stdout",
     "output_type": "stream",
     "text": [
      "[4, 9]\n"
     ]
    }
   ],
   "source": [
    "nums1 = [4,9,5] \n",
    "nums2 = [9,4,9,8,4]\n",
    "result = []\n",
    "\n",
    "for i in range(len(nums1)):\n",
    "    #print(nums1[i])\n",
    "    for j in range(len(nums2)):\n",
    "        #print(nums2[j])\n",
    "        if nums1[i]==nums2[j]:\n",
    "            if nums1[i] not in result: # not in list condition \n",
    "                result.append(nums1[i]) \n",
    "print(result)"
   ]
  },
  {
   "cell_type": "markdown",
   "metadata": {},
   "source": [
    "# 14. Longest Common Prefix"
   ]
  },
  {
   "cell_type": "markdown",
   "metadata": {},
   "source": [
    "Write a function to find the longest common prefix string amongst an array of strings.\n",
    "\n",
    "If there is no common prefix, return an empty string \"\".\n",
    "\n",
    " \n",
    "\n",
    "Example 1:\n",
    "\n",
    "Input: strs = [\"flower\",\"flow\",\"flight\"]\n",
    "Output: \"fl\"\n",
    "\n",
    "Example 2:\n",
    "\n",
    "Input: strs = [\"dog\",\"racecar\",\"car\"]\n",
    "Output: \"\"\n",
    "Explanation: There is no common prefix among the input strings.\n",
    " \n",
    "\n",
    "Constraints:\n",
    "\n",
    "0 <= strs.length <= 200\n",
    "0 <= strs[i].length <= 200\n",
    "strs[i] consists of only lower-case English letters."
   ]
  },
  {
   "cell_type": "code",
   "execution_count": 360,
   "metadata": {},
   "outputs": [
    {
     "name": "stdout",
     "output_type": "stream",
     "text": [
      "['f', 'l']\n"
     ]
    }
   ],
   "source": [
    "list1 = [\"flower\",\"flow\",\"flight\"]\n",
    "min_length = len(list1[0]) \n",
    "for values in range(len(list1)):\n",
    "    #print(list1[values])\n",
    "    if len(list1[values]) <min_length:\n",
    "        min_length = len(list1[values])\n",
    "#print(min_length)\n",
    "\n",
    "i=0\n",
    "\n",
    "prefix_large=[]\n",
    "\n",
    "while i<min_length:\n",
    "    if list1[0][i]==list1[1][i] and list1[0][i]==list1[2][i]:\n",
    "        #print(list1[0][i])\n",
    "        prefix_large.append(list1[0][i])\n",
    "    i = i+1\n",
    "        \n",
    "print(prefix_large)   \n",
    "\n"
   ]
  },
  {
   "cell_type": "markdown",
   "metadata": {},
   "source": [
    "# 121. Best Time to Buy and Sell Stock"
   ]
  },
  {
   "cell_type": "markdown",
   "metadata": {},
   "source": [
    "You are given an array prices where prices[i] is the price of a given stock on the ith day.\n",
    "\n",
    "You want to maximize your profit by choosing a single day to buy one stock and choosing a different day in the future to sell that stock.\n",
    "\n",
    "Return the maximum profit you can achieve from this transaction. If you cannot achieve any profit, return 0.\n",
    "\n",
    " \n",
    "\n",
    "Example 1:\n",
    "\n",
    "Input: prices = [7,1,5,3,6,4]\n",
    "Output: 5\n",
    "Explanation: Buy on day 2 (price = 1) and sell on day 5 (price = 6), profit = 6-1 = 5.\n",
    "Note that buying on day 2 and selling on day 1 is not allowed because you must buy before you sell.\n",
    "\n",
    "Example 2:\n",
    "\n",
    "Input: prices = [7,6,4,3,1]\n",
    "Output: 0\n",
    "Explanation: In this case, no transactions are done and the max profit = 0.\n",
    " \n",
    "\n",
    "Constraints:\n",
    "\n",
    "1 <= prices.length <= 105\n",
    "0 <= prices[i] <= 104"
   ]
  },
  {
   "cell_type": "code",
   "execution_count": 373,
   "metadata": {},
   "outputs": [
    {
     "name": "stdout",
     "output_type": "stream",
     "text": [
      "3\n",
      "6\n"
     ]
    }
   ],
   "source": [
    "prices = [7,8,5,3,6,4]\n",
    "\n",
    "min_value = prices[0]\n",
    "\n",
    "for i in range(len(prices)):\n",
    "    if prices[i]< min_value:\n",
    "        min_value=prices[i]\n",
    "\n",
    "print(min_value)\n",
    "\n",
    "#print(prices.index(min_value))\n",
    "\n",
    "idx= prices.index(min_value)\n",
    "max_value = 0 \n",
    "for j in range(idx+1,len(prices)):\n",
    "    #print(prices[j])\n",
    "    if prices[j]> min_value:\n",
    "        min_value= prices[j]\n",
    "        #print(max_value)\n",
    "\n",
    "print(min_value)\n",
    "\n",
    "    \n"
   ]
  },
  {
   "cell_type": "markdown",
   "metadata": {},
   "source": [
    "# 408. Valid Word Abbreviation"
   ]
  },
  {
   "cell_type": "markdown",
   "metadata": {},
   "source": [
    "Given a non-empty string s and an abbreviation abbr, return whether the string matches with the given abbreviation.\n",
    "\n",
    "A string such as \"word\" contains only the following valid abbreviations:\n",
    "\n",
    "[\"word\", \"1ord\", \"w1rd\", \"wo1d\", \"wor1\", \"2rd\", \"w2d\", \"wo2\", \"1o1d\", \"1or1\", \"w1r1\", \"1o2\", \"2r1\", \"3d\", \"w3\", \"4\"]\n",
    "Notice that only the above abbreviations are valid abbreviations of the string \"word\". Any other string is not a valid abbreviation of \"word\".\n",
    "\n",
    "Note:\n",
    "Assume s contains only lowercase letters and abbr contains only lowercase letters and digits.\n",
    "\n",
    "Example 1:\n",
    "Given s = \"internationalization\", abbr = \"i12iz4n\":\n",
    "\n",
    "Return true.\n",
    "\n",
    "Example 2:\n",
    "Given s = \"apple\", abbr = \"a2e\":\n",
    "\n",
    "Return false."
   ]
  },
  {
   "cell_type": "markdown",
   "metadata": {},
   "source": [
    "#  not solved"
   ]
  },
  {
   "cell_type": "code",
   "execution_count": 383,
   "metadata": {},
   "outputs": [
    {
     "name": "stdout",
     "output_type": "stream",
     "text": [
      "false\n",
      "false\n",
      "false\n",
      "False\n"
     ]
    }
   ],
   "source": [
    "s = \"internationalization\"\n",
    "abbr = \"i12iz4n\"\n",
    "\n",
    "size = len(s)\n",
    "cnt = 0\n",
    "loc = 0\n",
    "\n",
    "for w in abbr:\n",
    "    if w.isdigit():\n",
    "        if w == '0' and cnt == 0:\n",
    "            print(\"False\")\n",
    "        cnt = cnt * 10 + int(w)\n",
    "    else:\n",
    "        loc += cnt\n",
    "        cnt = 0\n",
    "        if loc >= size or s[loc] != w:\n",
    "            print(\"false\")\n",
    "        loc += 1\n",
    "print(loc + cnt == size)"
   ]
  },
  {
   "cell_type": "markdown",
   "metadata": {},
   "source": [
    "# 344. Reverse String"
   ]
  },
  {
   "cell_type": "markdown",
   "metadata": {},
   "source": [
    "write here "
   ]
  },
  {
   "cell_type": "code",
   "execution_count": 384,
   "metadata": {},
   "outputs": [
    {
     "name": "stdout",
     "output_type": "stream",
     "text": [
      "['e', 'd', 'c', 'b', 'a']\n"
     ]
    }
   ],
   "source": [
    "a= [\"a\",\"b\",\"c\",\"d\",\"e\"]\n",
    "#a.reverse()\n",
    "#print(a)\n",
    "\n",
    "left = 0 \n",
    "right = len(a)-1\n",
    "#print(right)\n",
    "while left < right :\n",
    "    temp = a[left]\n",
    "    a[left] = a[right]\n",
    "    a[right] =temp\n",
    "    left = left +1\n",
    "    right = right -1\n",
    "print(a)"
   ]
  },
  {
   "cell_type": "markdown",
   "metadata": {},
   "source": [
    "# 1662. Check If Two String Arrays are Equivalent"
   ]
  },
  {
   "cell_type": "markdown",
   "metadata": {},
   "source": [
    "write "
   ]
  },
  {
   "cell_type": "code",
   "execution_count": 386,
   "metadata": {},
   "outputs": [
    {
     "name": "stdout",
     "output_type": "stream",
     "text": [
      "true\n"
     ]
    }
   ],
   "source": [
    "word1 = [\"ab\", \"c\"]\n",
    "word2 = [\"a\", \"bc\"]\n",
    "#print(word1,word2)\n",
    "word1Join = \"\".join(word1) # \"\" -> no space OR \" \" -> add space before joining \n",
    "word2Join = \"\".join(word2)\n",
    "\n",
    "if word1Join==word2Join:\n",
    "    print(\"true\")\n",
    "else:\n",
    "    print(\"false\")"
   ]
  },
  {
   "cell_type": "markdown",
   "metadata": {},
   "source": [
    "# 1108. Defanging an IP Addres"
   ]
  },
  {
   "cell_type": "markdown",
   "metadata": {},
   "source": [
    "write"
   ]
  },
  {
   "cell_type": "code",
   "execution_count": 387,
   "metadata": {},
   "outputs": [
    {
     "data": {
      "text/plain": [
       "'1[.]1[.]1[.]1'"
      ]
     },
     "execution_count": 387,
     "metadata": {},
     "output_type": "execute_result"
    }
   ],
   "source": [
    "address = \"1.1.1.1\"\n",
    "address.replace(\".\",\"[.]\")"
   ]
  },
  {
   "cell_type": "markdown",
   "metadata": {},
   "source": [
    "# 709. To Lower Case"
   ]
  },
  {
   "cell_type": "code",
   "execution_count": 389,
   "metadata": {},
   "outputs": [
    {
     "data": {
      "text/plain": [
       "'hello'"
      ]
     },
     "execution_count": 389,
     "metadata": {},
     "output_type": "execute_result"
    }
   ],
   "source": [
    "str = \"Hello\"\n",
    "str.lower()"
   ]
  },
  {
   "cell_type": "markdown",
   "metadata": {},
   "source": [
    "# 1684. Count the Number of Consistent Strings"
   ]
  },
  {
   "cell_type": "markdown",
   "metadata": {},
   "source": [
    "write"
   ]
  },
  {
   "cell_type": "code",
   "execution_count": 390,
   "metadata": {},
   "outputs": [
    {
     "name": "stdout",
     "output_type": "stream",
     "text": [
      "4\n"
     ]
    }
   ],
   "source": [
    "allowed = \"cad\"\n",
    "words = [\"cc\",\"acd\",\"b\",\"ba\",\"bac\",\"bad\",\"ac\",\"d\"]\n",
    "total =0\n",
    "\n",
    "sallowed = set(allowed) # understand whaat is set\n",
    "\n",
    "for i in words:\n",
    "    if all(j in sallowed for j in i): # underatsnd 11 and this loop format\n",
    "        total = total +1\n",
    "print(total)"
   ]
  },
  {
   "cell_type": "markdown",
   "metadata": {},
   "source": [
    "# 1704. Determine if String Halves Are Alike"
   ]
  },
  {
   "cell_type": "markdown",
   "metadata": {},
   "source": [
    "write "
   ]
  },
  {
   "cell_type": "code",
   "execution_count": 391,
   "metadata": {},
   "outputs": [
    {
     "name": "stdout",
     "output_type": "stream",
     "text": [
      "1 2\n",
      "false\n"
     ]
    }
   ],
   "source": [
    "#s = \"book\"\n",
    "s =\"textbook\"\n",
    "#s = \"MerryChristmas\"\n",
    "#s = \"AbCdEfGh\"\n",
    "\n",
    "n = len(s)\n",
    "count1 = 0\n",
    "count2 = 0\n",
    "\n",
    "s1 = s[:len(s) // 2]\n",
    "s2 = s[len(s) // 2 : ]\n",
    "\n",
    "for c in s1:\n",
    "    if c in ['a', 'e', 'i', 'o', 'u', 'A', 'E', 'I', 'O', 'U']:\n",
    "        count1 += 1\n",
    "        \n",
    "for c in s2:\n",
    "    if c in ['a', 'e', 'i', 'o', 'u', 'A', 'E', 'I', 'O', 'U']:\n",
    "        count2 += 1        \n",
    "\n",
    "print(count1,count2)\n",
    "if count1==count2:\n",
    "    print(\"true\")\n",
    "else:\n",
    "    print(\"false\")"
   ]
  },
  {
   "cell_type": "markdown",
   "metadata": {},
   "source": [
    "# 1773. Count Items Matching a Rule"
   ]
  },
  {
   "cell_type": "markdown",
   "metadata": {},
   "source": [
    "write "
   ]
  },
  {
   "cell_type": "code",
   "execution_count": 392,
   "metadata": {},
   "outputs": [
    {
     "name": "stdout",
     "output_type": "stream",
     "text": [
      "['phone', 'gold', 'iphone']\n",
      "2\n"
     ]
    }
   ],
   "source": [
    "items = [[\"phone\",\"blue\",\"pixel\"],[\"computer\",\"silver\",\"phone\"],[\"phone\",\"gold\",\"iphone\"]]\n",
    "ruleKey = \"type\"\n",
    "ruleValue = \"phone\"\n",
    "\n",
    "print(items[2])\n",
    "count = 0\n",
    "\n",
    "for item in items:\n",
    "    if ruleKey==\"type\" and item[0]==ruleValue:\n",
    "        count = count +1\n",
    "    elif ruleKey==\"color\" and item[1]==ruleValue:\n",
    "        count = count +1\n",
    "    elif ruleKey==\"name\" and item[2]==ruleValue:\n",
    "        count = count +1 \n",
    "print(count)"
   ]
  },
  {
   "cell_type": "markdown",
   "metadata": {},
   "source": [
    "# 1678. Goal Parser Interpretation"
   ]
  },
  {
   "cell_type": "markdown",
   "metadata": {},
   "source": [
    "write"
   ]
  },
  {
   "cell_type": "code",
   "execution_count": 393,
   "metadata": {},
   "outputs": [
    {
     "name": "stdout",
     "output_type": "stream",
     "text": [
      "alGalooG\n"
     ]
    }
   ],
   "source": [
    "#command = \"G()(al)\"\n",
    "#command = \"G()()()()(al)\"\n",
    "command = \"(al)G(al)()()G\"\n",
    "\n",
    "command = command.replace(\"()\", \"o\")\n",
    "command = command.replace(\"(al)\", \"al\")\n",
    "\n",
    "print(command)"
   ]
  },
  {
   "cell_type": "markdown",
   "metadata": {},
   "source": [
    "# 1221. Split a String in Balanced Strings"
   ]
  },
  {
   "cell_type": "markdown",
   "metadata": {},
   "source": [
    "write "
   ]
  },
  {
   "cell_type": "code",
   "execution_count": 394,
   "metadata": {},
   "outputs": [
    {
     "name": "stdout",
     "output_type": "stream",
     "text": [
      "4\n"
     ]
    }
   ],
   "source": [
    "s = \"RLRRLLRLRL\"\n",
    "\n",
    "check = {'R': 0, 'L': 0}\n",
    "count=0\n",
    "for word in s:\n",
    "    check[word] += 1\n",
    "    if check['R'] == check['L']:\n",
    "        count += 1\n",
    "        check['R'] = 0\n",
    "        check['L'] = 0\n",
    "print(count)"
   ]
  },
  {
   "cell_type": "markdown",
   "metadata": {},
   "source": [
    "# 929. Unique Email Addresses"
   ]
  },
  {
   "cell_type": "markdown",
   "metadata": {},
   "source": [
    "write "
   ]
  },
  {
   "cell_type": "code",
   "execution_count": 395,
   "metadata": {},
   "outputs": [
    {
     "name": "stdout",
     "output_type": "stream",
     "text": [
      "test.email+alex\n",
      "test.e.mail+bob.cathy\n",
      "testemail+david\n",
      "2\n"
     ]
    }
   ],
   "source": [
    "emails = [\"test.email+alex@leetcode.com\",\"test.e.mail+bob.cathy@leetcode.com\",\"testemail+david@lee.tcode.com\"]\n",
    "#emails = [\"a@leetcode.com\",\"b@leetcode.com\",\"c@leetcode.com\"]\n",
    "\n",
    "res = set() # check this \n",
    "for email in emails:\n",
    "    name, domain = email.split(\"@\")\n",
    "    print(name)\n",
    "    name = name.split(\"+\")[0]\n",
    "    #print(name)\n",
    "    name=name.replace(\".\", \"\")\n",
    "    #print(name)\n",
    "    res.add(name+\"@\"+domain)\n",
    "    #print(res)\n",
    "print(len(res))"
   ]
  },
  {
   "cell_type": "markdown",
   "metadata": {},
   "source": [
    "# 266. Palindrome Permutation"
   ]
  },
  {
   "cell_type": "markdown",
   "metadata": {},
   "source": [
    "Given a string s, return true if a permutation of the string could form a palindrome.\n",
    "\n",
    "\n",
    "Example 1:\n",
    "\n",
    "Input: s = \"code\"\n",
    "Output: false\n",
    "\n",
    "Example 2:\n",
    "\n",
    "Input: s = \"aab\"\n",
    "Output: true\n",
    "Example 3:\n",
    "\n",
    "Input: s = \"carerac\"\n",
    "Output: true\n",
    " \n",
    "\n",
    "Constraints:\n",
    "\n",
    "1 <= s.length <= 5000\n",
    "s consists of only lowercase English letters."
   ]
  },
  {
   "cell_type": "code",
   "execution_count": null,
   "metadata": {},
   "outputs": [],
   "source": []
  },
  {
   "cell_type": "code",
   "execution_count": null,
   "metadata": {},
   "outputs": [],
   "source": []
  },
  {
   "cell_type": "markdown",
   "metadata": {},
   "source": [
    "# 896. Monotonic Array"
   ]
  },
  {
   "cell_type": "markdown",
   "metadata": {},
   "source": [
    "An array is monotonic if it is either monotone increasing or monotone decreasing.\n",
    "\n",
    "An array A is monotone increasing if for all i <= j, A[i] <= A[j].  An array A is monotone decreasing if for all i <= j, A[i] >= A[j].\n",
    "\n",
    "Return true if and only if the given array A is monotonic.\n",
    "\n",
    " \n",
    "\n",
    "Example 1:\n",
    "\n",
    "Input: [1,2,2,3]\n",
    "Output: true\n",
    "\n",
    "Example 2:\n",
    "\n",
    "Input: [6,5,4,4]\n",
    "Output: true\n",
    "\n",
    "Example 3:\n",
    "\n",
    "Input: [1,3,2]\n",
    "Output: false\n",
    "\n",
    "Example 4:\n",
    "\n",
    "Input: [1,2,4,5]\n",
    "Output: true\n",
    "\n",
    "Example 5:\n",
    "\n",
    "Input: [1,1,1]\n",
    "Output: true\n",
    " \n",
    "\n",
    "Note:\n",
    "\n",
    "1 <= A.length <= 50000\n",
    "-100000 <= A[i] <= 100000"
   ]
  },
  {
   "cell_type": "code",
   "execution_count": null,
   "metadata": {},
   "outputs": [],
   "source": []
  },
  {
   "cell_type": "code",
   "execution_count": null,
   "metadata": {},
   "outputs": [],
   "source": []
  },
  {
   "cell_type": "markdown",
   "metadata": {},
   "source": [
    "# 163. Missing Ranges"
   ]
  },
  {
   "cell_type": "markdown",
   "metadata": {},
   "source": [
    "You are given an inclusive range [lower, upper] and a sorted unique integer array nums, where all elements are in the inclusive range.\n",
    "\n",
    "A number x is considered missing if x is in the range [lower, upper] and x is not in nums.\n",
    "\n",
    "Return the smallest sorted list of ranges that cover every missing number exactly. That is, no element of nums is in any of the ranges, and each missing number is in one of the ranges.\n",
    "\n",
    "Each range [a,b] in the list should be output as:\n",
    "\n",
    "\"a->b\" if a != b\n",
    "\"a\" if a == b\n",
    " \n",
    "\n",
    "Example 1:\n",
    "\n",
    "Input: nums = [0,1,3,50,75], lower = 0, upper = 99\n",
    "Output: [\"2\",\"4->49\",\"51->74\",\"76->99\"]\n",
    "Explanation: The ranges are:\n",
    "[2,2] --> \"2\"\n",
    "[4,49] --> \"4->49\"\n",
    "[51,74] --> \"51->74\"\n",
    "[76,99] --> \"76->99\"\n",
    "\n",
    "Example 2:\n",
    "\n",
    "Input: nums = [], lower = 1, upper = 1\n",
    "Output: [\"1\"]\n",
    "Explanation: The only missing range is [1,1], which becomes \"1\".\n",
    "\n",
    "Example 3:\n",
    "\n",
    "Input: nums = [], lower = -3, upper = -1\n",
    "Output: [\"-3->-1\"]\n",
    "Explanation: The only missing range is [-3,-1], which becomes \"-3->-1\".\n",
    "\n",
    "Example 4:\n",
    "\n",
    "Input: nums = [-1], lower = -1, upper = -1\n",
    "Output: []\n",
    "Explanation: There are no missing ranges since there are no missing numbers.\n",
    "\n",
    "Example 5:\n",
    "\n",
    "Input: nums = [-1], lower = -2, upper = -1\n",
    "Output: [\"-2\"]\n",
    " \n",
    "\n",
    "Constraints:\n",
    "\n",
    "-109 <= lower <= upper <= 109\n",
    "0 <= nums.length <= 100\n",
    "lower <= nums[i] <= upper\n",
    "All the values of nums are unique."
   ]
  },
  {
   "cell_type": "code",
   "execution_count": null,
   "metadata": {},
   "outputs": [],
   "source": []
  },
  {
   "cell_type": "code",
   "execution_count": null,
   "metadata": {},
   "outputs": [],
   "source": []
  },
  {
   "cell_type": "markdown",
   "metadata": {},
   "source": [
    "# 1213. Intersection of Three Sorted Arrays"
   ]
  },
  {
   "cell_type": "markdown",
   "metadata": {},
   "source": [
    "Given three integer arrays arr1, arr2 and arr3 sorted in strictly increasing order, return a sorted array of only the integers that appeared in all three arrays.\n",
    "\n",
    " \n",
    "\n",
    "Example 1:\n",
    "\n",
    "Input: arr1 = [1,2,3,4,5], arr2 = [1,2,5,7,9], arr3 = [1,3,4,5,8]\n",
    "Output: [1,5]\n",
    "Explanation: Only 1 and 5 appeared in the three arrays.\n",
    "\n",
    "Example 2:\n",
    "\n",
    "Input: arr1 = [197,418,523,876,1356], arr2 = [501,880,1593,1710,1870], arr3 = [521,682,1337,1395,1764]\n",
    "Output: []\n",
    " \n",
    "\n",
    "Constraints:\n",
    "\n",
    "1 <= arr1.length, arr2.length, arr3.length <= 1000\n",
    "1 <= arr1[i], arr2[i], arr3[i] <= 2000"
   ]
  },
  {
   "cell_type": "code",
   "execution_count": null,
   "metadata": {},
   "outputs": [],
   "source": []
  },
  {
   "cell_type": "code",
   "execution_count": null,
   "metadata": {},
   "outputs": [],
   "source": []
  },
  {
   "cell_type": "markdown",
   "metadata": {},
   "source": [
    "# 246. Strobogrammatic Number"
   ]
  },
  {
   "cell_type": "markdown",
   "metadata": {},
   "source": [
    "Given a string num which represents an integer, return true if num is a strobogrammatic number.\n",
    "\n",
    "A strobogrammatic number is a number that looks the same when rotated 180 degrees (looked at upside down).\n",
    "\n",
    " \n",
    "\n",
    "Example 1:\n",
    "\n",
    "Input: num = \"69\"\n",
    "Output: true\n",
    "\n",
    "Example 2:\n",
    "\n",
    "Input: num = \"88\"\n",
    "Output: true\n",
    "\n",
    "Example 3:\n",
    "\n",
    "Input: num = \"962\"\n",
    "Output: false\n",
    "\n",
    "Example 4:\n",
    "\n",
    "Input: num = \"1\"\n",
    "Output: true\n",
    " "
   ]
  },
  {
   "cell_type": "markdown",
   "metadata": {},
   "source": [
    "# 844. Backspace String Compare"
   ]
  },
  {
   "cell_type": "markdown",
   "metadata": {},
   "source": [
    "Given two strings S and T, return if they are equal when both are typed into empty text editors. # means a backspace character.\n",
    "\n",
    "Note that after backspacing an empty text, the text will continue empty.\n",
    "\n",
    "Example 1:\n",
    "\n",
    "Input: S = \"ab#c\", T = \"ad#c\"\n",
    "Output: true\n",
    "Explanation: Both S and T become \"ac\".\n",
    "\n",
    "Example 2:\n",
    "\n",
    "Input: S = \"ab##\", T = \"c#d#\"\n",
    "Output: true\n",
    "Explanation: Both S and T become \"\".\n",
    "\n",
    "Example 3:\n",
    "\n",
    "Input: S = \"a##c\", T = \"#a#c\"\n",
    "Output: true\n",
    "Explanation: Both S and T become \"c\".\n",
    "\n",
    "Example 4:\n",
    "\n",
    "Input: S = \"a#c\", T = \"b\"\n",
    "Output: false\n",
    "Explanation: S becomes \"c\" while T becomes \"b\".\n",
    "\n",
    "Note:\n",
    "\n",
    "1 <= S.length <= 200\n",
    "1 <= T.length <= 200\n",
    "S and T only contain lowercase letters and '#' characters.\n",
    "Follow up:\n",
    "\n",
    "Can you solve it in O(N) time and O(1) space?"
   ]
  },
  {
   "cell_type": "code",
   "execution_count": null,
   "metadata": {},
   "outputs": [],
   "source": []
  },
  {
   "cell_type": "code",
   "execution_count": null,
   "metadata": {},
   "outputs": [],
   "source": []
  },
  {
   "cell_type": "markdown",
   "metadata": {},
   "source": [
    "# 824. Goat Latin"
   ]
  },
  {
   "cell_type": "markdown",
   "metadata": {},
   "source": [
    "A sentence S is given, composed of words separated by spaces. Each word consists of lowercase and uppercase letters only.\n",
    "\n",
    "We would like to convert the sentence to \"Goat Latin\" (a made-up language similar to Pig Latin.)\n",
    "\n",
    "The rules of Goat Latin are as follows:\n",
    "\n",
    "If a word begins with a vowel (a, e, i, o, or u), append \"ma\" to the end of the word.\n",
    "For example, the word 'apple' becomes 'applema'.\n",
    " \n",
    "If a word begins with a consonant (i.e. not a vowel), remove the first letter and append it to the end, then add \"ma\".\n",
    "For example, the word \"goat\" becomes \"oatgma\".\n",
    " \n",
    "Add one letter 'a' to the end of each word per its word index in the sentence, starting with 1.\n",
    "For example, the first word gets \"a\" added to the end, the second word gets \"aa\" added to the end and so on.\n",
    "Return the final sentence representing the conversion from S to Goat Latin. \n",
    "\n",
    " \n",
    "\n",
    "Example 1:\n",
    "\n",
    "Input: \"I speak Goat Latin\"\n",
    "Output: \"Imaa peaksmaaa oatGmaaaa atinLmaaaaa\"\n",
    "\n",
    "Example 2:\n",
    "\n",
    "Input: \"The quick brown fox jumped over the lazy dog\"\n",
    "Output: \"heTmaa uickqmaaa rownbmaaaa oxfmaaaaa umpedjmaaaaaa overmaaaaaaa hetmaaaaaaaa azylmaaaaaaaaa ogdmaaaaaaaaaa\"\n",
    " \n",
    "\n",
    "Notes:\n",
    "\n",
    "S contains only uppercase, lowercase and spaces. Exactly one space between each word.\n",
    "1 <= S.length <= 150."
   ]
  },
  {
   "cell_type": "code",
   "execution_count": null,
   "metadata": {},
   "outputs": [],
   "source": []
  },
  {
   "cell_type": "code",
   "execution_count": null,
   "metadata": {},
   "outputs": [],
   "source": []
  },
  {
   "cell_type": "markdown",
   "metadata": {},
   "source": [
    "# 605. Can Place Flowers"
   ]
  },
  {
   "cell_type": "markdown",
   "metadata": {},
   "source": [
    "You have a long flowerbed in which some of the plots are planted, and some are not. However, flowers cannot be planted in adjacent plots.\n",
    "\n",
    "Given an integer array flowerbed containing 0's and 1's, where 0 means empty and 1 means not empty, and an integer n, return if n new flowers can be planted in the flowerbed without violating the no-adjacent-flowers rule.\n",
    "\n",
    " \n",
    "\n",
    "Example 1:\n",
    "\n",
    "Input: flowerbed = [1,0,0,0,1], n = 1\n",
    "Output: true\n",
    "\n",
    "Example 2:\n",
    "\n",
    "Input: flowerbed = [1,0,0,0,1], n = 2\n",
    "Output: false\n",
    " "
   ]
  },
  {
   "cell_type": "code",
   "execution_count": null,
   "metadata": {},
   "outputs": [],
   "source": []
  },
  {
   "cell_type": "code",
   "execution_count": null,
   "metadata": {},
   "outputs": [],
   "source": []
  },
  {
   "cell_type": "markdown",
   "metadata": {},
   "source": [
    "# 977. Squares of a Sorted Array"
   ]
  },
  {
   "cell_type": "markdown",
   "metadata": {},
   "source": [
    "Given an integer array nums sorted in non-decreasing order, return an array of the squares of each number sorted in non-decreasing order.\n",
    "\n",
    " \n",
    "\n",
    "Example 1:\n",
    "\n",
    "Input: nums = [-4,-1,0,3,10]\n",
    "Output: [0,1,9,16,100]\n",
    "Explanation: After squaring, the array becomes [16,1,0,9,100].\n",
    "After sorting, it becomes [0,1,9,16,100].\n",
    "\n",
    "Example 2:\n",
    "\n",
    "Input: nums = [-7,-3,2,3,11]\n",
    "Output: [4,9,9,49,121]\n",
    " "
   ]
  },
  {
   "cell_type": "code",
   "execution_count": null,
   "metadata": {},
   "outputs": [],
   "source": []
  },
  {
   "cell_type": "code",
   "execution_count": null,
   "metadata": {},
   "outputs": [],
   "source": []
  },
  {
   "cell_type": "markdown",
   "metadata": {},
   "source": [
    "# 1614. Maximum Nesting Depth of the Parentheses"
   ]
  },
  {
   "cell_type": "markdown",
   "metadata": {},
   "source": [
    "A string is a valid parentheses string (denoted VPS) if it meets one of the following:\n",
    "\n",
    "It is an empty string \"\", or a single character not equal to \"(\" or \")\",\n",
    "It can be written as AB (A concatenated with B), where A and B are VPS's, or\n",
    "It can be written as (A), where A is a VPS.\n",
    "We can similarly define the nesting depth depth(S) of any VPS S as follows:\n",
    "\n",
    "depth(\"\") = 0\n",
    "depth(C) = 0, where C is a string with a single character not equal to \"(\" or \")\".\n",
    "depth(A + B) = max(depth(A), depth(B)), where A and B are VPS's.\n",
    "depth(\"(\" + A + \")\") = 1 + depth(A), where A is a VPS.\n",
    "For example, \"\", \"()()\", and \"()(()())\" are VPS's (with nesting depths 0, 1, and 2), and \")(\" and \"(()\" are not VPS's.\n",
    "\n",
    "Given a VPS represented as string s, return the nesting depth of s.\n",
    "\n",
    " \n",
    "\n",
    "Example 1:\n",
    "\n",
    "Input: s = \"(1+(2*3)+((8)/4))+1\"\n",
    "Output: 3\n",
    "Explanation: Digit 8 is inside of 3 nested parentheses in the string.\n",
    "\n",
    "Example 2:\n",
    "\n",
    "Input: s = \"(1)+((2))+(((3)))\"\n",
    "Output: 3\n",
    "\n",
    "Example 3:\n",
    "\n",
    "Input: s = \"1+(2*3)/(2-1)\"\n",
    "Output: 1\n",
    "\n",
    "Example 4:\n",
    "\n",
    "Input: s = \"1\"\n",
    "Output: 0\n",
    " "
   ]
  },
  {
   "cell_type": "code",
   "execution_count": null,
   "metadata": {},
   "outputs": [],
   "source": []
  },
  {
   "cell_type": "code",
   "execution_count": null,
   "metadata": {},
   "outputs": [],
   "source": []
  },
  {
   "cell_type": "markdown",
   "metadata": {},
   "source": [
    "# 724. Find Pivot Index"
   ]
  },
  {
   "cell_type": "markdown",
   "metadata": {},
   "source": [
    "Given an array of integers nums, calculate the pivot index of this array.\n",
    "\n",
    "The pivot index is the index where the sum of all the numbers strictly to the left of the index is equal to the sum of all the numbers strictly to the index's right.\n",
    "\n",
    "If the index is on the left edge of the array, then the left sum is 0 because there are no elements to the left. This also applies to the right edge of the array.\n",
    "\n",
    "Return the leftmost pivot index. If no such index exists, return -1.\n",
    "\n",
    " \n",
    "\n",
    "Example 1:\n",
    "\n",
    "Input: nums = [1,7,3,6,5,6]\n",
    "Output: 3\n",
    "Explanation:\n",
    "The pivot index is 3.\n",
    "Left sum = nums[0] + nums[1] + nums[2] = 1 + 7 + 3 = 11\n",
    "Right sum = nums[4] + nums[5] = 5 + 6 = 11\n",
    "\n",
    "Example 2:\n",
    "\n",
    "Input: nums = [1,2,3]\n",
    "Output: -1\n",
    "Explanation:\n",
    "There is no index that satisfies the conditions in the problem statement.\n",
    "\n",
    "Example 3:\n",
    "\n",
    "Input: nums = [2,1,-1]\n",
    "Output: 0\n",
    "Explanation:\n",
    "The pivot index is 0.\n",
    "Left sum = 0 (no elements to the left of index 0)\n",
    "Right sum = nums[1] + nums[2] = 1 + -1 = 0\n",
    " "
   ]
  },
  {
   "cell_type": "code",
   "execution_count": null,
   "metadata": {},
   "outputs": [],
   "source": []
  },
  {
   "cell_type": "code",
   "execution_count": null,
   "metadata": {},
   "outputs": [],
   "source": []
  },
  {
   "cell_type": "markdown",
   "metadata": {},
   "source": [
    "# 1119. Remove Vowels from a String"
   ]
  },
  {
   "cell_type": "markdown",
   "metadata": {},
   "source": [
    "Given a string s, remove the vowels 'a', 'e', 'i', 'o', and 'u' from it, and return the new string.\n",
    "\n",
    " \n",
    "\n",
    "Example 1:\n",
    "\n",
    "Input: s = \"leetcodeisacommunityforcoders\"\n",
    "Output: \"ltcdscmmntyfrcdrs\"\n",
    "\n",
    "Example 2:\n",
    "\n",
    "Input: s = \"aeiou\"\n",
    "Output: \"\""
   ]
  },
  {
   "cell_type": "code",
   "execution_count": null,
   "metadata": {},
   "outputs": [],
   "source": []
  },
  {
   "cell_type": "code",
   "execution_count": null,
   "metadata": {},
   "outputs": [],
   "source": []
  },
  {
   "cell_type": "markdown",
   "metadata": {},
   "source": [
    "# 1480. Running Sum of 1d Array"
   ]
  },
  {
   "cell_type": "markdown",
   "metadata": {},
   "source": [
    "Given an array nums. We define a running sum of an array as runningSum[i] = sum(nums[0]…nums[i]).\n",
    "\n",
    "Return the running sum of nums.\n",
    "\n",
    " \n",
    "\n",
    "Example 1:\n",
    "\n",
    "Input: nums = [1,2,3,4]\n",
    "Output: [1,3,6,10]\n",
    "Explanation: Running sum is obtained as follows: [1, 1+2, 1+2+3, 1+2+3+4].\n",
    "\n",
    "Example 2:\n",
    "\n",
    "Input: nums = [1,1,1,1,1]\n",
    "Output: [1,2,3,4,5]\n",
    "Explanation: Running sum is obtained as follows: [1, 1+1, 1+1+1, 1+1+1+1, 1+1+1+1+1].\n",
    "\n",
    "Example 3:\n",
    "\n",
    "Input: nums = [3,1,2,10,1]\n",
    "Output: [3,4,6,16,17]"
   ]
  },
  {
   "cell_type": "code",
   "execution_count": null,
   "metadata": {},
   "outputs": [],
   "source": []
  },
  {
   "cell_type": "code",
   "execution_count": null,
   "metadata": {},
   "outputs": [],
   "source": []
  },
  {
   "cell_type": "code",
   "execution_count": null,
   "metadata": {},
   "outputs": [],
   "source": []
  },
  {
   "cell_type": "markdown",
   "metadata": {},
   "source": [
    "# 1470. Shuffle the Array"
   ]
  },
  {
   "cell_type": "markdown",
   "metadata": {},
   "source": [
    "Given the array nums consisting of 2n elements in the form [x1,x2,...,xn,y1,y2,...,yn].\n",
    "\n",
    "Return the array in the form [x1,y1,x2,y2,...,xn,yn].\n",
    "\n",
    " \n",
    "\n",
    "Example 1:\n",
    "\n",
    "Input: nums = [2,5,1,3,4,7], n = 3\n",
    "Output: [2,3,5,4,1,7] \n",
    "Explanation: Since x1=2, x2=5, x3=1, y1=3, y2=4, y3=7 then the answer is [2,3,5,4,1,7].\n",
    "\n",
    "Example 2:\n",
    "\n",
    "Input: nums = [1,2,3,4,4,3,2,1], n = 4\n",
    "Output: [1,4,2,3,3,2,4,1]\n",
    "\n",
    "Example 3:\n",
    "\n",
    "Input: nums = [1,1,2,2], n = 2\n",
    "Output: [1,2,1,2]"
   ]
  },
  {
   "cell_type": "code",
   "execution_count": null,
   "metadata": {},
   "outputs": [],
   "source": []
  },
  {
   "cell_type": "code",
   "execution_count": null,
   "metadata": {},
   "outputs": [],
   "source": []
  },
  {
   "cell_type": "markdown",
   "metadata": {},
   "source": [
    "# 1528. Shuffle String"
   ]
  },
  {
   "cell_type": "markdown",
   "metadata": {},
   "source": [
    "Given a string s and an integer array indices of the same length.\n",
    "\n",
    "The string s will be shuffled such that the character at the ith position moves to indices[i] in the shuffled string.\n",
    "\n",
    "Return the shuffled string.\n",
    "\n",
    " \n",
    "\n",
    "Example 1:\n",
    "\n",
    "\n",
    "Input: s = \"codeleet\", indices = [4,5,6,7,0,2,1,3]\n",
    "Output: \"leetcode\"\n",
    "Explanation: As shown, \"codeleet\" becomes \"leetcode\" after shuffling.\n",
    "Example 2:\n",
    "\n",
    "Input: s = \"abc\", indices = [0,1,2]\n",
    "Output: \"abc\"\n",
    "Explanation: After shuffling, each character remains in its position.\n",
    "Example 3:\n",
    "\n",
    "Input: s = \"aiohn\", indices = [3,1,4,2,0]\n",
    "Output: \"nihao\"\n",
    "Example 4:\n",
    "\n",
    "Input: s = \"aaiougrt\", indices = [4,0,2,6,7,3,1,5]\n",
    "Output: \"arigatou\"\n",
    "Example 5:\n",
    "\n",
    "Input: s = \"art\", indices = [1,0,2]\n",
    "Output: \"rat\"\n",
    " "
   ]
  },
  {
   "cell_type": "code",
   "execution_count": null,
   "metadata": {},
   "outputs": [],
   "source": []
  },
  {
   "cell_type": "code",
   "execution_count": null,
   "metadata": {},
   "outputs": [],
   "source": []
  },
  {
   "cell_type": "markdown",
   "metadata": {},
   "source": [
    "# 1720. Decode XORed Array"
   ]
  },
  {
   "cell_type": "markdown",
   "metadata": {},
   "source": [
    "There is a hidden integer array arr that consists of n non-negative integers.\n",
    "\n",
    "It was encoded into another integer array encoded of length n - 1, such that encoded[i] = arr[i] XOR arr[i + 1]. For example, if arr = [1,0,2,1], then encoded = [1,2,3].\n",
    "\n",
    "You are given the encoded array. You are also given an integer first, that is the first element of arr, i.e. arr[0].\n",
    "\n",
    "Return the original array arr. It can be proved that the answer exists and is unique.\n",
    "\n",
    " \n",
    "\n",
    "Example 1:\n",
    "\n",
    "Input: encoded = [1,2,3], first = 1\n",
    "Output: [1,0,2,1]\n",
    "Explanation: If arr = [1,0,2,1], then first = 1 and encoded = [1 XOR 0, 0 XOR 2, 2 XOR 1] = [1,2,3]\n",
    "\n",
    "Example 2:\n",
    "\n",
    "Input: encoded = [6,2,7,3], first = 4\n",
    "Output: [4,2,0,7,4]\n",
    " "
   ]
  },
  {
   "cell_type": "code",
   "execution_count": null,
   "metadata": {},
   "outputs": [],
   "source": []
  },
  {
   "cell_type": "code",
   "execution_count": null,
   "metadata": {},
   "outputs": [],
   "source": []
  },
  {
   "cell_type": "markdown",
   "metadata": {},
   "source": [
    "# 1539. Kth Missing Positive Number"
   ]
  },
  {
   "cell_type": "markdown",
   "metadata": {},
   "source": [
    "Given an array arr of positive integers sorted in a strictly increasing order, and an integer k.\n",
    "\n",
    "Find the kth positive integer that is missing from this array.\n",
    "\n",
    " \n",
    "\n",
    "Example 1:\n",
    "\n",
    "Input: arr = [2,3,4,7,11], k = 5\n",
    "Output: 9\n",
    "Explanation: The missing positive integers are [1,5,6,8,9,10,12,13,...]. The 5th missing positive integer is 9.\n",
    "\n",
    "Example 2:\n",
    "\n",
    "Input: arr = [1,2,3,4], k = 2\n",
    "Output: 6\n",
    "Explanation: The missing positive integers are [5,6,7,...]. The 2nd missing positive integer is 6.\n",
    " "
   ]
  },
  {
   "cell_type": "code",
   "execution_count": null,
   "metadata": {},
   "outputs": [],
   "source": []
  },
  {
   "cell_type": "code",
   "execution_count": null,
   "metadata": {},
   "outputs": [],
   "source": []
  },
  {
   "cell_type": "markdown",
   "metadata": {},
   "source": [
    "# 88. Merge Sorted Array"
   ]
  },
  {
   "cell_type": "markdown",
   "metadata": {},
   "source": [
    "Given two sorted integer arrays nums1 and nums2, merge nums2 into nums1 as one sorted array.\n",
    "\n",
    "The number of elements initialized in nums1 and nums2 are m and n respectively. You may assume that nums1 has a size equal to m + n such that it has enough space to hold additional elements from nums2.\n",
    "\n",
    " \n",
    "\n",
    "Example 1:\n",
    "\n",
    "Input: nums1 = [1,2,3,0,0,0], m = 3, nums2 = [2,5,6], n = 3\n",
    "Output: [1,2,2,3,5,6]\n",
    "Example 2:\n",
    "\n",
    "Input: nums1 = [1], m = 1, nums2 = [], n = 0\n",
    "Output: [1]"
   ]
  },
  {
   "cell_type": "code",
   "execution_count": null,
   "metadata": {},
   "outputs": [],
   "source": []
  },
  {
   "cell_type": "code",
   "execution_count": null,
   "metadata": {},
   "outputs": [],
   "source": []
  },
  {
   "cell_type": "markdown",
   "metadata": {},
   "source": [
    "# 266. Palindrome Permutation"
   ]
  },
  {
   "cell_type": "markdown",
   "metadata": {},
   "source": [
    "Given a string s, return true if a permutation of the string could form a palindrome.\n",
    "\n",
    " \n",
    "\n",
    "Example 1:\n",
    "\n",
    "Input: s = \"code\"\n",
    "Output: false\n",
    "\n",
    "Example 2:\n",
    "\n",
    "Input: s = \"aab\"\n",
    "Output: true\n",
    "\n",
    "Example 3:\n",
    "\n",
    "Input: s = \"carerac\"\n",
    "Output: true\n",
    " "
   ]
  },
  {
   "cell_type": "code",
   "execution_count": null,
   "metadata": {},
   "outputs": [],
   "source": []
  },
  {
   "cell_type": "code",
   "execution_count": null,
   "metadata": {},
   "outputs": [],
   "source": []
  },
  {
   "cell_type": "markdown",
   "metadata": {},
   "source": [
    "# 1694. Reformat Phone Number"
   ]
  },
  {
   "cell_type": "markdown",
   "metadata": {},
   "source": [
    "You are given a phone number as a string number. number consists of digits, spaces ' ', and/or dashes '-'.\n",
    "\n",
    "You would like to reformat the phone number in a certain manner. Firstly, remove all spaces and dashes. Then, group the digits from left to right into blocks of length 3 until there are 4 or fewer digits. The final digits are then grouped as follows:\n",
    "\n",
    "2 digits: A single block of length 2.\n",
    "3 digits: A single block of length 3.\n",
    "4 digits: Two blocks of length 2 each.\n",
    "The blocks are then joined by dashes. Notice that the reformatting process should never produce any blocks of length 1 and produce at most two blocks of length 2.\n",
    "\n",
    "Return the phone number after formatting.\n",
    "\n",
    " \n",
    "\n",
    "Example 1:\n",
    "\n",
    "Input: number = \"1-23-45 6\"\n",
    "Output: \"123-456\"\n",
    "Explanation: The digits are \"123456\".\n",
    "Step 1: There are more than 4 digits, so group the next 3 digits. The 1st block is \"123\".\n",
    "Step 2: There are 3 digits remaining, so put them in a single block of length 3. The 2nd block is \"456\".\n",
    "Joining the blocks gives \"123-456\".\n",
    "\n",
    "Example 2:\n",
    "\n",
    "Input: number = \"123 4-567\"\n",
    "Output: \"123-45-67\"\n",
    "Explanation: The digits are \"1234567\".\n",
    "Step 1: There are more than 4 digits, so group the next 3 digits. The 1st block is \"123\".\n",
    "Step 2: There are 4 digits left, so split them into two blocks of length 2. The blocks are \"45\" and \"67\".\n",
    "Joining the blocks gives \"123-45-67\".\n",
    "\n",
    "Example 3:\n",
    "\n",
    "Input: number = \"123 4-5678\"\n",
    "Output: \"123-456-78\"\n",
    "Explanation: The digits are \"12345678\".\n",
    "Step 1: The 1st block is \"123\".\n",
    "Step 2: The 2nd block is \"456\".\n",
    "Step 3: There are 2 digits left, so put them in a single block of length 2. The 3rd block is \"78\".\n",
    "Joining the blocks gives \"123-456-78\".\n",
    "\n",
    "Example 4:\n",
    "\n",
    "Input: number = \"12\"\n",
    "Output: \"12\"\n",
    "\n",
    "Example 5:\n",
    "\n",
    "Input: number = \"--17-5 229 35-39475 \"\n",
    "Output: \"175-229-353-94-75\"\n",
    " "
   ]
  },
  {
   "cell_type": "code",
   "execution_count": null,
   "metadata": {},
   "outputs": [],
   "source": []
  },
  {
   "cell_type": "code",
   "execution_count": null,
   "metadata": {},
   "outputs": [],
   "source": []
  },
  {
   "cell_type": "markdown",
   "metadata": {},
   "source": [
    "# 1408. String Matching in an Array"
   ]
  },
  {
   "cell_type": "markdown",
   "metadata": {},
   "source": [
    "Given an array of string words. Return all strings in words which is substring of another word in any order. \n",
    "\n",
    "String words[i] is substring of words[j], if can be obtained removing some characters to left and/or right side of words[j].\n",
    "\n",
    " \n",
    "\n",
    "Example 1:\n",
    "\n",
    "Input: words = [\"mass\",\"as\",\"hero\",\"superhero\"]\n",
    "Output: [\"as\",\"hero\"]\n",
    "Explanation: \"as\" is substring of \"mass\" and \"hero\" is substring of \"superhero\".\n",
    "[\"hero\",\"as\"] is also a valid answer.\n",
    "\n",
    "Example 2:\n",
    "\n",
    "Input: words = [\"leetcode\",\"et\",\"code\"]\n",
    "Output: [\"et\",\"code\"]\n",
    "Explanation: \"et\", \"code\" are substring of \"leetcode\".\n",
    "\n",
    "Example 3:\n",
    "\n",
    "Input: words = [\"blue\",\"green\",\"bu\"]\n",
    "Output: []"
   ]
  },
  {
   "cell_type": "code",
   "execution_count": null,
   "metadata": {},
   "outputs": [],
   "source": []
  },
  {
   "cell_type": "code",
   "execution_count": null,
   "metadata": {},
   "outputs": [],
   "source": []
  },
  {
   "cell_type": "markdown",
   "metadata": {},
   "source": [
    "# 1431. Kids With the Greatest Number of Candies"
   ]
  },
  {
   "cell_type": "markdown",
   "metadata": {},
   "source": [
    "Given the array candies and the integer extraCandies, where candies[i] represents the number of candies that the ith kid has.\n",
    "\n",
    "For each kid check if there is a way to distribute extraCandies among the kids such that he or she can have the greatest number of candies among them. Notice that multiple kids can have the greatest number of candies.\n",
    "\n",
    " \n",
    "\n",
    "Example 1:\n",
    "\n",
    "Input: candies = [2,3,5,1,3], extraCandies = 3\n",
    "Output: [true,true,true,false,true] \n",
    "Explanation: \n",
    "Kid 1 has 2 candies and if he or she receives all extra candies (3) will have 5 candies --- the greatest number of candies among the kids. \n",
    "Kid 2 has 3 candies and if he or she receives at least 2 extra candies will have the greatest number of candies among the kids. \n",
    "Kid 3 has 5 candies and this is already the greatest number of candies among the kids. \n",
    "Kid 4 has 1 candy and even if he or she receives all extra candies will only have 4 candies. \n",
    "Kid 5 has 3 candies and if he or she receives at least 2 extra candies will have the greatest number of candies among the kids. \n",
    "\n",
    "Example 2:\n",
    "\n",
    "Input: candies = [4,2,1,1,2], extraCandies = 1\n",
    "Output: [true,false,false,false,false] \n",
    "Explanation: There is only 1 extra candy, therefore only kid 1 will have the greatest number of candies among the kids regardless of who takes the extra candy.\n",
    "\n",
    "Example 3:\n",
    "\n",
    "Input: candies = [12,1,12], extraCandies = 10\n",
    "Output: [true,false,true]\n",
    " "
   ]
  },
  {
   "cell_type": "code",
   "execution_count": null,
   "metadata": {},
   "outputs": [],
   "source": []
  },
  {
   "cell_type": "code",
   "execution_count": null,
   "metadata": {},
   "outputs": [],
   "source": []
  },
  {
   "cell_type": "markdown",
   "metadata": {},
   "source": [
    "# 1470. Shuffle the Array"
   ]
  },
  {
   "cell_type": "markdown",
   "metadata": {},
   "source": [
    "Given the array nums consisting of 2n elements in the form [x1,x2,...,xn,y1,y2,...,yn].\n",
    "\n",
    "Return the array in the form [x1,y1,x2,y2,...,xn,yn].\n",
    "\n",
    " \n",
    "\n",
    "Example 1:\n",
    "\n",
    "Input: nums = [2,5,1,3,4,7], n = 3\n",
    "Output: [2,3,5,4,1,7] \n",
    "Explanation: Since x1=2, x2=5, x3=1, y1=3, y2=4, y3=7 then the answer is [2,3,5,4,1,7].\n",
    "\n",
    "Example 2:\n",
    "\n",
    "Input: nums = [1,2,3,4,4,3,2,1], n = 4\n",
    "Output: [1,4,2,3,3,2,4,1]\n",
    "\n",
    "Example 3:\n",
    "\n",
    "Input: nums = [1,1,2,2], n = 2\n",
    "Output: [1,2,1,2]"
   ]
  },
  {
   "cell_type": "code",
   "execution_count": null,
   "metadata": {},
   "outputs": [],
   "source": []
  },
  {
   "cell_type": "code",
   "execution_count": null,
   "metadata": {},
   "outputs": [],
   "source": []
  },
  {
   "cell_type": "markdown",
   "metadata": {},
   "source": [
    "# 1672. Richest Customer Wealth"
   ]
  },
  {
   "cell_type": "markdown",
   "metadata": {},
   "source": [
    "You are given an m x n integer grid accounts where accounts[i][j] is the amount of money the i​​​​​​​​​​​th​​​​ customer has in the j​​​​​​​​​​​th​​​​ bank. Return the wealth that the richest customer has.\n",
    "\n",
    "A customer's wealth is the amount of money they have in all their bank accounts. The richest customer is the customer that has the maximum wealth.\n",
    "\n",
    " \n",
    "\n",
    "Example 1:\n",
    "\n",
    "Input: accounts = [[1,2,3],[3,2,1]]\n",
    "Output: 6\n",
    "Explanation:\n",
    "1st customer has wealth = 1 + 2 + 3 = 6\n",
    "2nd customer has wealth = 3 + 2 + 1 = 6\n",
    "Both customers are considered the richest with a wealth of 6 each, so return 6.\n",
    "\n",
    "Example 2:\n",
    "\n",
    "Input: accounts = [[1,5],[7,3],[3,5]]\n",
    "Output: 10\n",
    "Explanation: \n",
    "1st customer has wealth = 6\n",
    "2nd customer has wealth = 10 \n",
    "3rd customer has wealth = 8\n",
    "The 2nd customer is the richest with a wealth of 10.\n",
    "\n",
    "Example 3:\n",
    "\n",
    "Input: accounts = [[2,8,7],[7,1,3],[1,9,5]]\n",
    "Output: 17\n",
    " "
   ]
  },
  {
   "cell_type": "code",
   "execution_count": null,
   "metadata": {},
   "outputs": [],
   "source": []
  },
  {
   "cell_type": "code",
   "execution_count": null,
   "metadata": {},
   "outputs": [],
   "source": []
  },
  {
   "cell_type": "markdown",
   "metadata": {},
   "source": [
    "# 1512. Number of Good Pairs"
   ]
  },
  {
   "cell_type": "markdown",
   "metadata": {},
   "source": [
    "Given an array of integers nums.\n",
    "\n",
    "A pair (i,j) is called good if nums[i] == nums[j] and i < j.\n",
    "\n",
    "Return the number of good pairs.\n",
    "\n",
    " \n",
    "\n",
    "Example 1:\n",
    "\n",
    "Input: nums = [1,2,3,1,1,3]\n",
    "Output: 4\n",
    "Explanation: There are 4 good pairs (0,3), (0,4), (3,4), (2,5) 0-indexed.\n",
    "\n",
    "Example 2:\n",
    "\n",
    "Input: nums = [1,1,1,1]\n",
    "Output: 6\n",
    "Explanation: Each pair in the array are good.\n",
    "\n",
    "Example 3:\n",
    "\n",
    "Input: nums = [1,2,3]\n",
    "Output: 0\n",
    " "
   ]
  },
  {
   "cell_type": "code",
   "execution_count": null,
   "metadata": {},
   "outputs": [],
   "source": []
  },
  {
   "cell_type": "code",
   "execution_count": null,
   "metadata": {},
   "outputs": [],
   "source": []
  },
  {
   "cell_type": "markdown",
   "metadata": {},
   "source": [
    "# 1365. How Many Numbers Are Smaller Than the Current Number"
   ]
  },
  {
   "cell_type": "markdown",
   "metadata": {},
   "source": [
    "Given the array nums, for each nums[i] find out how many numbers in the array are smaller than it. That is, for each nums[i] you have to count the number of valid j's such that j != i and nums[j] < nums[i].\n",
    "\n",
    "Return the answer in an array.\n",
    "\n",
    " \n",
    "\n",
    "Example 1:\n",
    "\n",
    "Input: nums = [8,1,2,2,3]\n",
    "Output: [4,0,1,1,3]\n",
    "Explanation: \n",
    "For nums[0]=8 there exist four smaller numbers than it (1, 2, 2 and 3). \n",
    "For nums[1]=1 does not exist any smaller number than it.\n",
    "For nums[2]=2 there exist one smaller number than it (1). \n",
    "For nums[3]=2 there exist one smaller number than it (1). \n",
    "For nums[4]=3 there exist three smaller numbers than it (1, 2 and 2).\n",
    "\n",
    "Example 2:\n",
    "\n",
    "Input: nums = [6,5,4,8]\n",
    "Output: [2,1,0,3]\n",
    "\n",
    "Example 3:\n",
    "\n",
    "Input: nums = [7,7,7,7]\n",
    "Output: [0,0,0,0]\n",
    " "
   ]
  },
  {
   "cell_type": "code",
   "execution_count": null,
   "metadata": {},
   "outputs": [],
   "source": []
  },
  {
   "cell_type": "markdown",
   "metadata": {},
   "source": [
    "# 100 sort values in list not using sort()"
   ]
  },
  {
   "cell_type": "markdown",
   "metadata": {},
   "source": [
    "example 1\n",
    "\n",
    "list1 = [5,6,2,5,1,9,66,22]"
   ]
  },
  {
   "cell_type": "code",
   "execution_count": 39,
   "metadata": {},
   "outputs": [
    {
     "name": "stdout",
     "output_type": "stream",
     "text": [
      "[66, 22, 9, 6, 5, 5, 2, 1]\n"
     ]
    }
   ],
   "source": [
    "list1 = [5,6,2,5,1,9,66,22]\n",
    "list2 = []\n",
    "\n",
    "while list1:\n",
    "    min_value= list1[0] ## tricky logic \n",
    "    for values in list1:\n",
    "        if values> min_value:\n",
    "            min_value = values\n",
    "    list2.append(min_value)\n",
    "    list1.remove(min_value)\n",
    "print(list2)"
   ]
  },
  {
   "cell_type": "markdown",
   "metadata": {},
   "source": [
    "# 99 print the list of values in reverse order "
   ]
  },
  {
   "cell_type": "markdown",
   "metadata": {},
   "source": [
    "example 1 \n",
    "\n",
    "list1 = [2,5,7,1,9,5,44,33]"
   ]
  },
  {
   "cell_type": "code",
   "execution_count": 40,
   "metadata": {},
   "outputs": [],
   "source": [
    "list1 = [2,5,7,1,9,5,44,33]"
   ]
  },
  {
   "cell_type": "code",
   "execution_count": 41,
   "metadata": {},
   "outputs": [
    {
     "data": {
      "text/plain": [
       "[33, 44, 5, 9, 1, 7, 5, 2]"
      ]
     },
     "execution_count": 41,
     "metadata": {},
     "output_type": "execute_result"
    }
   ],
   "source": [
    "list1[::-1]"
   ]
  },
  {
   "cell_type": "markdown",
   "metadata": {},
   "source": [
    "# 98 print duplicate values in list"
   ]
  },
  {
   "cell_type": "markdown",
   "metadata": {},
   "source": [
    "example 1\n",
    "\n",
    "list1 =  [1,2,3,4,3,5,6,1,3]"
   ]
  },
  {
   "cell_type": "code",
   "execution_count": null,
   "metadata": {},
   "outputs": [],
   "source": []
  },
  {
   "cell_type": "code",
   "execution_count": null,
   "metadata": {},
   "outputs": [],
   "source": []
  },
  {
   "cell_type": "markdown",
   "metadata": {},
   "source": [
    "# 97 print no of words in a sentance "
   ]
  },
  {
   "cell_type": "markdown",
   "metadata": {},
   "source": [
    "s = \"jinto is very good person\""
   ]
  },
  {
   "cell_type": "code",
   "execution_count": 49,
   "metadata": {},
   "outputs": [
    {
     "name": "stdout",
     "output_type": "stream",
     "text": [
      "5\n"
     ]
    }
   ],
   "source": [
    "s = \"jinto is very good person\"\n",
    "a = s.split(\" \")\n",
    "print(len(a))"
   ]
  },
  {
   "cell_type": "markdown",
   "metadata": {},
   "source": [
    "# 96"
   ]
  },
  {
   "cell_type": "markdown",
   "metadata": {},
   "source": []
  },
  {
   "cell_type": "code",
   "execution_count": null,
   "metadata": {},
   "outputs": [],
   "source": []
  },
  {
   "cell_type": "code",
   "execution_count": null,
   "metadata": {},
   "outputs": [],
   "source": []
  },
  {
   "cell_type": "code",
   "execution_count": null,
   "metadata": {},
   "outputs": [],
   "source": []
  },
  {
   "cell_type": "code",
   "execution_count": null,
   "metadata": {},
   "outputs": [],
   "source": []
  },
  {
   "cell_type": "code",
   "execution_count": null,
   "metadata": {},
   "outputs": [],
   "source": []
  },
  {
   "cell_type": "code",
   "execution_count": null,
   "metadata": {},
   "outputs": [],
   "source": []
  }
 ],
 "metadata": {
  "kernelspec": {
   "display_name": "Python 3",
   "language": "python",
   "name": "python3"
  },
  "language_info": {
   "codemirror_mode": {
    "name": "ipython",
    "version": 3
   },
   "file_extension": ".py",
   "mimetype": "text/x-python",
   "name": "python",
   "nbconvert_exporter": "python",
   "pygments_lexer": "ipython3",
   "version": "3.8.5"
  }
 },
 "nbformat": 4,
 "nbformat_minor": 4
}
